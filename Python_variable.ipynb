{
 "cells": [
  {
   "cell_type": "code",
   "execution_count": 3,
   "id": "39c50536",
   "metadata": {},
   "outputs": [],
   "source": [
    "!pip install jovian --upgrade --quiet"
   ]
  },
  {
   "cell_type": "code",
   "execution_count": 4,
   "id": "0371ad06",
   "metadata": {},
   "outputs": [
    {
     "data": {
      "application/javascript": [
       "if (window.IPython && IPython.notebook.kernel) IPython.notebook.kernel.execute('jovian.utils.jupyter.get_notebook_name_saved = lambda: \"' + IPython.notebook.notebook_name + '\"')"
      ],
      "text/plain": [
       "<IPython.core.display.Javascript object>"
      ]
     },
     "metadata": {},
     "output_type": "display_data"
    }
   ],
   "source": [
    "import jovian"
   ]
  },
  {
   "cell_type": "code",
   "execution_count": 5,
   "id": "114e447e",
   "metadata": {},
   "outputs": [
    {
     "data": {
      "application/javascript": [
       "window.require && require([\"base/js/namespace\"],function(Jupyter){Jupyter.notebook.save_checkpoint()})"
      ],
      "text/plain": [
       "<IPython.core.display.Javascript object>"
      ]
     },
     "metadata": {},
     "output_type": "display_data"
    },
    {
     "name": "stdout",
     "output_type": "stream",
     "text": [
      "[jovian] Please enter your API key ( from https://jovian.ai/ ):\n",
      "API KEY: ········\n",
      "[jovian] Updating notebook \"pritikanta-manik/first-steps-with-python\" on https://jovian.ai/\n",
      "[jovian] Committed successfully! https://jovian.ai/pritikanta-manik/first-steps-with-python\n"
     ]
    },
    {
     "data": {
      "text/plain": [
       "'https://jovian.ai/pritikanta-manik/first-steps-with-python'"
      ]
     },
     "execution_count": 5,
     "metadata": {},
     "output_type": "execute_result"
    }
   ],
   "source": [
    "jovian.commit(project='first-steps-with-python')"
   ]
  },
  {
   "cell_type": "code",
   "execution_count": 1,
   "id": "c5741ba1",
   "metadata": {},
   "outputs": [],
   "source": [
    "abv = 5"
   ]
  },
  {
   "cell_type": "code",
   "execution_count": 2,
   "id": "af106590",
   "metadata": {},
   "outputs": [
    {
     "name": "stdout",
     "output_type": "stream",
     "text": [
      "5\n"
     ]
    }
   ],
   "source": [
    "print(abv)"
   ]
  },
  {
   "cell_type": "code",
   "execution_count": 3,
   "id": "19928d58",
   "metadata": {},
   "outputs": [
    {
     "data": {
      "text/plain": [
       "int"
      ]
     },
     "execution_count": 3,
     "metadata": {},
     "output_type": "execute_result"
    }
   ],
   "source": [
    "type(abv)"
   ]
  },
  {
   "cell_type": "code",
   "execution_count": 4,
   "id": "8bc1e77e",
   "metadata": {},
   "outputs": [],
   "source": [
    "cvb = 'asx'"
   ]
  },
  {
   "cell_type": "code",
   "execution_count": 5,
   "id": "0ae3fd46",
   "metadata": {},
   "outputs": [
    {
     "data": {
      "text/plain": [
       "str"
      ]
     },
     "execution_count": 5,
     "metadata": {},
     "output_type": "execute_result"
    }
   ],
   "source": [
    "type(cvb)"
   ]
  },
  {
   "cell_type": "code",
   "execution_count": 6,
   "id": "c3bd54b4",
   "metadata": {},
   "outputs": [],
   "source": [
    "pi= 3.142563783782798\n"
   ]
  },
  {
   "cell_type": "code",
   "execution_count": 7,
   "id": "df068bec",
   "metadata": {},
   "outputs": [
    {
     "data": {
      "text/plain": [
       "float"
      ]
     },
     "execution_count": 7,
     "metadata": {},
     "output_type": "execute_result"
    }
   ],
   "source": [
    "type(pi)"
   ]
  },
  {
   "cell_type": "code",
   "execution_count": 26,
   "id": "640cd63f",
   "metadata": {},
   "outputs": [],
   "source": [
    "ten_to_the_power = 1e-4"
   ]
  },
  {
   "cell_type": "code",
   "execution_count": 27,
   "id": "0562fd28",
   "metadata": {},
   "outputs": [
    {
     "data": {
      "text/plain": [
       "float"
      ]
     },
     "execution_count": 27,
     "metadata": {},
     "output_type": "execute_result"
    }
   ],
   "source": [
    "type(ten_to_the_power)"
   ]
  },
  {
   "cell_type": "code",
   "execution_count": 28,
   "id": "138f2022",
   "metadata": {},
   "outputs": [
    {
     "name": "stdout",
     "output_type": "stream",
     "text": [
      "0.0001\n"
     ]
    }
   ],
   "source": [
    "print(ten_to_the_power)"
   ]
  },
  {
   "cell_type": "code",
   "execution_count": 30,
   "id": "fbed74f9",
   "metadata": {},
   "outputs": [
    {
     "data": {
      "text/plain": [
       "0.0001"
      ]
     },
     "execution_count": 30,
     "metadata": {},
     "output_type": "execute_result"
    }
   ],
   "source": [
    "ten_to_the_power"
   ]
  },
  {
   "cell_type": "code",
   "execution_count": 34,
   "id": "80aa5a19",
   "metadata": {},
   "outputs": [
    {
     "data": {
      "text/plain": [
       "3"
      ]
     },
     "execution_count": 34,
     "metadata": {},
     "output_type": "execute_result"
    }
   ],
   "source": [
    " int(pi) #type casting"
   ]
  },
  {
   "cell_type": "code",
   "execution_count": 35,
   "id": "87177e39",
   "metadata": {},
   "outputs": [
    {
     "data": {
      "text/plain": [
       "float"
      ]
     },
     "execution_count": 35,
     "metadata": {},
     "output_type": "execute_result"
    }
   ],
   "source": [
    "type(10/2)"
   ]
  },
  {
   "cell_type": "code",
   "execution_count": 37,
   "id": "671e4cd2",
   "metadata": {},
   "outputs": [
    {
     "name": "stdout",
     "output_type": "stream",
     "text": [
      "5.0\n"
     ]
    }
   ],
   "source": [
    "print(10/2)"
   ]
  },
  {
   "cell_type": "code",
   "execution_count": 36,
   "id": "230fa017",
   "metadata": {},
   "outputs": [
    {
     "data": {
      "text/plain": [
       "int"
      ]
     },
     "execution_count": 36,
     "metadata": {},
     "output_type": "execute_result"
    }
   ],
   "source": [
    "type(10//2)"
   ]
  },
  {
   "cell_type": "code",
   "execution_count": 38,
   "id": "bc170cb5",
   "metadata": {},
   "outputs": [
    {
     "name": "stdout",
     "output_type": "stream",
     "text": [
      "5\n"
     ]
    }
   ],
   "source": [
    "print(10//2)"
   ]
  },
  {
   "cell_type": "code",
   "execution_count": 40,
   "id": "5079abd1",
   "metadata": {},
   "outputs": [
    {
     "data": {
      "text/plain": [
       "5"
      ]
     },
     "execution_count": 40,
     "metadata": {},
     "output_type": "execute_result"
    }
   ],
   "source": [
    "5+ False"
   ]
  },
  {
   "cell_type": "code",
   "execution_count": 41,
   "id": "41ace25f",
   "metadata": {},
   "outputs": [
    {
     "data": {
      "text/plain": [
       "6"
      ]
     },
     "execution_count": 41,
     "metadata": {},
     "output_type": "execute_result"
    }
   ],
   "source": [
    "5 + True"
   ]
  },
  {
   "cell_type": "code",
   "execution_count": 42,
   "id": "666c18e0",
   "metadata": {},
   "outputs": [
    {
     "data": {
      "text/plain": [
       "6.0"
      ]
     },
     "execution_count": 42,
     "metadata": {},
     "output_type": "execute_result"
    }
   ],
   "source": [
    "5. + True"
   ]
  },
  {
   "cell_type": "code",
   "execution_count": 43,
   "id": "41477fe3",
   "metadata": {},
   "outputs": [
    {
     "data": {
      "text/plain": [
       "5.0"
      ]
     },
     "execution_count": 43,
     "metadata": {},
     "output_type": "execute_result"
    }
   ],
   "source": [
    "5.0 + False"
   ]
  },
  {
   "cell_type": "code",
   "execution_count": 44,
   "id": "bcba1374",
   "metadata": {},
   "outputs": [],
   "source": [
    "nothing = None"
   ]
  },
  {
   "cell_type": "code",
   "execution_count": 45,
   "id": "d9550638",
   "metadata": {},
   "outputs": [
    {
     "data": {
      "text/plain": [
       "NoneType"
      ]
     },
     "execution_count": 45,
     "metadata": {},
     "output_type": "execute_result"
    }
   ],
   "source": [
    "type(nothing)"
   ]
  },
  {
   "cell_type": "code",
   "execution_count": 46,
   "id": "e857a200",
   "metadata": {},
   "outputs": [
    {
     "data": {
      "text/plain": [
       "str"
      ]
     },
     "execution_count": 46,
     "metadata": {},
     "output_type": "execute_result"
    }
   ],
   "source": [
    "type('fan')"
   ]
  },
  {
   "cell_type": "code",
   "execution_count": 47,
   "id": "462e6472",
   "metadata": {},
   "outputs": [],
   "source": [
    "multiline_stirng = '''a\n",
    "b'''"
   ]
  },
  {
   "cell_type": "code",
   "execution_count": 48,
   "id": "95766271",
   "metadata": {},
   "outputs": [
    {
     "data": {
      "text/plain": [
       "'a\\nb'"
      ]
     },
     "execution_count": 48,
     "metadata": {},
     "output_type": "execute_result"
    }
   ],
   "source": [
    "multiline_stirng"
   ]
  },
  {
   "cell_type": "code",
   "execution_count": 49,
   "id": "69bfcc81",
   "metadata": {},
   "outputs": [
    {
     "data": {
      "text/plain": [
       "str"
      ]
     },
     "execution_count": 49,
     "metadata": {},
     "output_type": "execute_result"
    }
   ],
   "source": [
    "type(multiline_stirng)"
   ]
  },
  {
   "cell_type": "code",
   "execution_count": 1,
   "id": "bf599ede",
   "metadata": {},
   "outputs": [
    {
     "data": {
      "text/plain": [
       "'RAMRAMRAMRAMRAMRAMRAMRAMRAMRAM'"
      ]
     },
     "execution_count": 1,
     "metadata": {},
     "output_type": "execute_result"
    }
   ],
   "source": [
    "10 * 'RAM'"
   ]
  },
  {
   "cell_type": "code",
   "execution_count": 50,
   "id": "ebfed24a",
   "metadata": {},
   "outputs": [
    {
     "data": {
      "text/plain": [
       "3"
      ]
     },
     "execution_count": 50,
     "metadata": {},
     "output_type": "execute_result"
    }
   ],
   "source": [
    "len(multiline_stirng)"
   ]
  },
  {
   "cell_type": "code",
   "execution_count": 51,
   "id": "d21f352e",
   "metadata": {},
   "outputs": [
    {
     "data": {
      "text/plain": [
       "['a', '\\n', 'b']"
      ]
     },
     "execution_count": 51,
     "metadata": {},
     "output_type": "execute_result"
    }
   ],
   "source": [
    "list(multiline_stirng)"
   ]
  },
  {
   "cell_type": "code",
   "execution_count": 54,
   "id": "12c48af1",
   "metadata": {},
   "outputs": [],
   "source": [
    "today = 'sunday'"
   ]
  },
  {
   "cell_type": "code",
   "execution_count": 55,
   "id": "7ec06859",
   "metadata": {},
   "outputs": [
    {
     "data": {
      "text/plain": [
       "'s'"
      ]
     },
     "execution_count": 55,
     "metadata": {},
     "output_type": "execute_result"
    }
   ],
   "source": [
    "today[0]"
   ]
  },
  {
   "cell_type": "code",
   "execution_count": 57,
   "id": "de5cdf51",
   "metadata": {},
   "outputs": [
    {
     "data": {
      "text/plain": [
       "'nd'"
      ]
     },
     "execution_count": 57,
     "metadata": {},
     "output_type": "execute_result"
    }
   ],
   "source": [
    "today[2:4]"
   ]
  },
  {
   "cell_type": "code",
   "execution_count": 58,
   "id": "4ce729ae",
   "metadata": {},
   "outputs": [
    {
     "data": {
      "text/plain": [
       "True"
      ]
     },
     "execution_count": 58,
     "metadata": {},
     "output_type": "execute_result"
    }
   ],
   "source": [
    "'day' in 'sunday'"
   ]
  },
  {
   "cell_type": "code",
   "execution_count": 60,
   "id": "bb6519ac",
   "metadata": {},
   "outputs": [
    {
     "data": {
      "text/plain": [
       "False"
      ]
     },
     "execution_count": 60,
     "metadata": {},
     "output_type": "execute_result"
    }
   ],
   "source": [
    "'sat' in 'sunday' "
   ]
  },
  {
   "cell_type": "code",
   "execution_count": 73,
   "id": "1e93f045",
   "metadata": {},
   "outputs": [],
   "source": [
    "a = 'Ram'"
   ]
  },
  {
   "cell_type": "code",
   "execution_count": 75,
   "id": "c1179090",
   "metadata": {},
   "outputs": [],
   "source": [
    "b = 'das'"
   ]
  },
  {
   "cell_type": "code",
   "execution_count": 76,
   "id": "ec46731e",
   "metadata": {},
   "outputs": [],
   "source": [
    "c = a+\" \"+b"
   ]
  },
  {
   "cell_type": "code",
   "execution_count": 77,
   "id": "e6df0dfa",
   "metadata": {},
   "outputs": [
    {
     "name": "stdout",
     "output_type": "stream",
     "text": [
      "Ram das\n"
     ]
    }
   ],
   "source": [
    "print(c)"
   ]
  },
  {
   "cell_type": "code",
   "execution_count": 78,
   "id": "3261a271",
   "metadata": {},
   "outputs": [
    {
     "data": {
      "text/plain": [
       "'ram das'"
      ]
     },
     "execution_count": 78,
     "metadata": {},
     "output_type": "execute_result"
    }
   ],
   "source": [
    " c.lower()"
   ]
  },
  {
   "cell_type": "code",
   "execution_count": 79,
   "id": "e25748c8",
   "metadata": {},
   "outputs": [
    {
     "data": {
      "text/plain": [
       "'RAM DAS'"
      ]
     },
     "execution_count": 79,
     "metadata": {},
     "output_type": "execute_result"
    }
   ],
   "source": [
    "c.upper()"
   ]
  },
  {
   "cell_type": "code",
   "execution_count": 83,
   "id": "fbe4022d",
   "metadata": {},
   "outputs": [],
   "source": [
    " b = 'moni'"
   ]
  },
  {
   "cell_type": "code",
   "execution_count": 84,
   "id": "a9aef7b3",
   "metadata": {},
   "outputs": [
    {
     "data": {
      "text/plain": [
       "'Moni'"
      ]
     },
     "execution_count": 84,
     "metadata": {},
     "output_type": "execute_result"
    }
   ],
   "source": [
    "b.capitalize()"
   ]
  },
  {
   "cell_type": "code",
   "execution_count": 2,
   "id": "e94f3062",
   "metadata": {},
   "outputs": [],
   "source": [
    "first_name = 'Priti'\n",
    "last_name= 'Manik'"
   ]
  },
  {
   "cell_type": "code",
   "execution_count": 4,
   "id": "49233638",
   "metadata": {},
   "outputs": [
    {
     "name": "stdout",
     "output_type": "stream",
     "text": [
      "my first name is Priti and last name is Manik \n"
     ]
    }
   ],
   "source": [
    "print('my first name is {} and last name is {} '.format (first_name,last_name))"
   ]
  },
  {
   "cell_type": "code",
   "execution_count": 8,
   "id": "85a83595",
   "metadata": {},
   "outputs": [
    {
     "name": "stdout",
     "output_type": "stream",
     "text": [
      "my first name is Priti and last name is Manik \n"
     ]
    }
   ],
   "source": [
    "print('my first name is {first} and last name is {last} '.format (last=last_name,first=first_name))"
   ]
  },
  {
   "cell_type": "code",
   "execution_count": 20,
   "id": "ea05a513",
   "metadata": {},
   "outputs": [],
   "source": [
    "my_str='priti manik'"
   ]
  },
  {
   "cell_type": "code",
   "execution_count": 11,
   "id": "ff48db45",
   "metadata": {},
   "outputs": [
    {
     "data": {
      "text/plain": [
       "'Priti manik'"
      ]
     },
     "execution_count": 11,
     "metadata": {},
     "output_type": "execute_result"
    }
   ],
   "source": [
    "my_str.capitalize()"
   ]
  },
  {
   "cell_type": "code",
   "execution_count": 26,
   "id": "a118085b",
   "metadata": {},
   "outputs": [
    {
     "data": {
      "text/plain": [
       "False"
      ]
     },
     "execution_count": 26,
     "metadata": {},
     "output_type": "execute_result"
    }
   ],
   "source": [
    "my_str.isalnum()# check if all the charecter are number # just press tab after my_str. you can see all bulit in function\n",
    "my_str.isalpha()# check if all char in string are alphabetic # to know details about a function just press Shift+tab before ()\n",
    "my_str.isdigit()# test if string contains digit\n",
    "my_str.istitle() #Return True if the string is a title-cased string, False otherwise.In a title-cased string, upper- and title-case characters may onlyfollow uncased characters and lowercase characters only cased ones.\n",
    "my_str.islower() # test if string contains lower case\n",
    "my_str.isupper()# test if string contains upper case\n",
    "my_str.isspace()# test if string contains any space\n",
    "my_str.startswith('p')# check if string starts with p\n",
    "my_str.endswith('a')# check if string starts with a"
   ]
  },
  {
   "cell_type": "code",
   "execution_count": 23,
   "id": "bfa6614a",
   "metadata": {},
   "outputs": [
    {
     "data": {
      "text/plain": [
       "True"
      ]
     },
     "execution_count": 23,
     "metadata": {},
     "output_type": "execute_result"
    }
   ],
   "source": [
    "my_str.islower()"
   ]
  },
  {
   "cell_type": "code",
   "execution_count": 28,
   "id": "0e51abe6",
   "metadata": {},
   "outputs": [
    {
     "data": {
      "text/plain": [
       "True"
      ]
     },
     "execution_count": 28,
     "metadata": {},
     "output_type": "execute_result"
    }
   ],
   "source": [
    "my_str.startswith('p')"
   ]
  },
  {
   "cell_type": "code",
   "execution_count": 29,
   "id": "81ab16bb",
   "metadata": {},
   "outputs": [
    {
     "data": {
      "text/plain": [
       "False"
      ]
     },
     "execution_count": 29,
     "metadata": {},
     "output_type": "execute_result"
    }
   ],
   "source": [
    "my_str.endswith('a')"
   ]
  },
  {
   "cell_type": "code",
   "execution_count": 30,
   "id": "ca2df22f",
   "metadata": {},
   "outputs": [
    {
     "data": {
      "text/plain": [
       "'A list is an ordered and mutable Python container, being one of the most common data structures in Python.\\nTo create a list, the elements are placed inside square brackets ([]), separated by commas.'"
      ]
     },
     "execution_count": 30,
     "metadata": {},
     "output_type": "execute_result"
    }
   ],
   "source": [
    "'''A list is an ordered and mutable Python container, being one of the most common data structures in Python.\n",
    "To create a list, the elements are placed inside square brackets ([]), separated by commas.'''\n"
   ]
  },
  {
   "cell_type": "code",
   "execution_count": 31,
   "id": "0fcd12a3",
   "metadata": {},
   "outputs": [
    {
     "data": {
      "text/plain": [
       "list"
      ]
     },
     "execution_count": 31,
     "metadata": {},
     "output_type": "execute_result"
    }
   ],
   "source": [
    "type([])"
   ]
  },
  {
   "cell_type": "code",
   "execution_count": 33,
   "id": "f9a2d1c8",
   "metadata": {},
   "outputs": [],
   "source": [
    "fst_example = []"
   ]
  },
  {
   "cell_type": "code",
   "execution_count": null,
   "id": "3560245e",
   "metadata": {},
   "outputs": [],
   "source": [
    "type(fst_example)\n"
   ]
  },
  {
   "cell_type": "code",
   "execution_count": 35,
   "id": "c967fd3d",
   "metadata": {},
   "outputs": [],
   "source": [
    "fst=['math','phy',1,3,5]"
   ]
  },
  {
   "cell_type": "code",
   "execution_count": 38,
   "id": "6cda4b44",
   "metadata": {},
   "outputs": [
    {
     "data": {
      "text/plain": [
       "list"
      ]
     },
     "execution_count": 38,
     "metadata": {},
     "output_type": "execute_result"
    }
   ],
   "source": [
    "type(fst)"
   ]
  },
  {
   "cell_type": "code",
   "execution_count": 39,
   "id": "5c8f3274",
   "metadata": {},
   "outputs": [
    {
     "data": {
      "text/plain": [
       "5"
      ]
     },
     "execution_count": 39,
     "metadata": {},
     "output_type": "execute_result"
    }
   ],
   "source": [
    "len(fst)\n"
   ]
  },
  {
   "cell_type": "markdown",
   "id": "204eddaf",
   "metadata": {},
   "source": [
    "Append"
   ]
  },
  {
   "cell_type": "code",
   "execution_count": 42,
   "id": "f0a0179c",
   "metadata": {},
   "outputs": [
    {
     "data": {
      "text/plain": [
       "['math', 'phy', 1, 3, 5, 'chem', 'chem']"
      ]
     },
     "execution_count": 42,
     "metadata": {},
     "output_type": "execute_result"
    }
   ],
   "source": [
    "# Append is used to add new element in the last of a list\n",
    "fst.append('chem')\n",
    "fst"
   ]
  },
  {
   "cell_type": "code",
   "execution_count": 44,
   "id": "7a785886",
   "metadata": {},
   "outputs": [],
   "source": [
    "fst.remove('chem')"
   ]
  },
  {
   "cell_type": "code",
   "execution_count": 54,
   "id": "c346d832",
   "metadata": {},
   "outputs": [],
   "source": [
    "fst.append(['jaden','oli'])"
   ]
  },
  {
   "cell_type": "code",
   "execution_count": 55,
   "id": "866c12f3",
   "metadata": {},
   "outputs": [
    {
     "data": {
      "text/plain": [
       "['math', 'phy', 1, 3, 5, 'chem', ['jaden', 'oli']]"
      ]
     },
     "execution_count": 55,
     "metadata": {},
     "output_type": "execute_result"
    }
   ],
   "source": [
    "fst"
   ]
  },
  {
   "cell_type": "code",
   "execution_count": 47,
   "id": "04b60c22",
   "metadata": {},
   "outputs": [
    {
     "data": {
      "text/plain": [
       "'phy'"
      ]
     },
     "execution_count": 47,
     "metadata": {},
     "output_type": "execute_result"
    }
   ],
   "source": [
    "#indexing in the list\n",
    "fst[1]\n"
   ]
  },
  {
   "cell_type": "code",
   "execution_count": 48,
   "id": "c19ce590",
   "metadata": {},
   "outputs": [
    {
     "data": {
      "text/plain": [
       "['phy', 1, 3, 5, 'chem']"
      ]
     },
     "execution_count": 48,
     "metadata": {},
     "output_type": "execute_result"
    }
   ],
   "source": [
    "fst[1:]\n"
   ]
  },
  {
   "cell_type": "code",
   "execution_count": 49,
   "id": "b2f72af6",
   "metadata": {},
   "outputs": [
    {
     "data": {
      "text/plain": [
       "['math', 'phy', 1, 3, 5, 'chem']"
      ]
     },
     "execution_count": 49,
     "metadata": {},
     "output_type": "execute_result"
    }
   ],
   "source": [
    "fst[:]"
   ]
  },
  {
   "cell_type": "code",
   "execution_count": 51,
   "id": "36b88d30",
   "metadata": {},
   "outputs": [
    {
     "data": {
      "text/plain": [
       "['phy', 1, 3]"
      ]
     },
     "execution_count": 51,
     "metadata": {},
     "output_type": "execute_result"
    }
   ],
   "source": [
    "fst[1:4]"
   ]
  },
  {
   "cell_type": "markdown",
   "id": "bab12f2a",
   "metadata": {},
   "source": [
    "Insert"
   ]
  },
  {
   "cell_type": "code",
   "execution_count": 52,
   "id": "13404b4c",
   "metadata": {},
   "outputs": [],
   "source": [
    "# insert in a specific order\n"
   ]
  },
  {
   "cell_type": "code",
   "execution_count": 56,
   "id": "823e9b82",
   "metadata": {},
   "outputs": [],
   "source": [
    "fst.insert(2,'Bio')"
   ]
  },
  {
   "cell_type": "code",
   "execution_count": 57,
   "id": "e219bc8f",
   "metadata": {},
   "outputs": [
    {
     "data": {
      "text/plain": [
       "['math', 'phy', 'Bio', 1, 3, 5, 'chem', ['jaden', 'oli']]"
      ]
     },
     "execution_count": 57,
     "metadata": {},
     "output_type": "execute_result"
    }
   ],
   "source": [
    "fst"
   ]
  },
  {
   "cell_type": "markdown",
   "id": "09731440",
   "metadata": {},
   "source": [
    "Extend Method"
   ]
  },
  {
   "cell_type": "code",
   "execution_count": 58,
   "id": "148374b1",
   "metadata": {},
   "outputs": [],
   "source": [
    "gst=[3,56,87,2334,543]"
   ]
  },
  {
   "cell_type": "code",
   "execution_count": 59,
   "id": "c248c6cc",
   "metadata": {},
   "outputs": [],
   "source": [
    "gst.extend(['daka','naka'])  # Extend list by appending elements from the iterable."
   ]
  },
  {
   "cell_type": "code",
   "execution_count": 60,
   "id": "f5a5201d",
   "metadata": {},
   "outputs": [
    {
     "data": {
      "text/plain": [
       "[3, 56, 87, 2334, 543, 'daka', 'naka']"
      ]
     },
     "execution_count": 60,
     "metadata": {},
     "output_type": "execute_result"
    }
   ],
   "source": [
    "gst"
   ]
  },
  {
   "cell_type": "markdown",
   "id": "a378e9f0",
   "metadata": {},
   "source": [
    "Various opeartion that we can perform in list"
   ]
  },
  {
   "cell_type": "code",
   "execution_count": 63,
   "id": "f928d89e",
   "metadata": {},
   "outputs": [],
   "source": [
    "b=[30,20,50,80,60,240]"
   ]
  },
  {
   "cell_type": "code",
   "execution_count": 64,
   "id": "9c529f0e",
   "metadata": {},
   "outputs": [
    {
     "data": {
      "text/plain": [
       "480"
      ]
     },
     "execution_count": 64,
     "metadata": {},
     "output_type": "execute_result"
    }
   ],
   "source": [
    "sum(b)"
   ]
  },
  {
   "cell_type": "markdown",
   "id": "a36f8a9e",
   "metadata": {},
   "source": [
    "Pop () Method"
   ]
  },
  {
   "cell_type": "code",
   "execution_count": 65,
   "id": "4f995412",
   "metadata": {},
   "outputs": [
    {
     "data": {
      "text/plain": [
       "240"
      ]
     },
     "execution_count": 65,
     "metadata": {},
     "output_type": "execute_result"
    }
   ],
   "source": [
    "b.pop() # Remove last element of list"
   ]
  },
  {
   "cell_type": "code",
   "execution_count": 66,
   "id": "b7782bde",
   "metadata": {},
   "outputs": [
    {
     "data": {
      "text/plain": [
       "[30, 20, 50, 80, 60]"
      ]
     },
     "execution_count": 66,
     "metadata": {},
     "output_type": "execute_result"
    }
   ],
   "source": [
    "b\n"
   ]
  },
  {
   "cell_type": "code",
   "execution_count": 67,
   "id": "d054ad6c",
   "metadata": {},
   "outputs": [
    {
     "data": {
      "text/plain": [
       "30"
      ]
     },
     "execution_count": 67,
     "metadata": {},
     "output_type": "execute_result"
    }
   ],
   "source": [
    "b.pop(0)"
   ]
  },
  {
   "cell_type": "code",
   "execution_count": 68,
   "id": "2a58bd03",
   "metadata": {},
   "outputs": [
    {
     "data": {
      "text/plain": [
       "[20, 50, 80, 60]"
      ]
     },
     "execution_count": 68,
     "metadata": {},
     "output_type": "execute_result"
    }
   ],
   "source": [
    "b"
   ]
  },
  {
   "cell_type": "markdown",
   "id": "55d6e5c4",
   "metadata": {},
   "source": [
    "Count() : it calculates total occurance of the given element"
   ]
  },
  {
   "cell_type": "code",
   "execution_count": 69,
   "id": "af5a9414",
   "metadata": {},
   "outputs": [],
   "source": [
    "c=[2,56,4,8,4,9,4,23]"
   ]
  },
  {
   "cell_type": "code",
   "execution_count": 70,
   "id": "b7c7f678",
   "metadata": {},
   "outputs": [
    {
     "data": {
      "text/plain": [
       "3"
      ]
     },
     "execution_count": 70,
     "metadata": {},
     "output_type": "execute_result"
    }
   ],
   "source": [
    "c.count(4)"
   ]
  },
  {
   "cell_type": "code",
   "execution_count": 71,
   "id": "4545ebb6",
   "metadata": {},
   "outputs": [
    {
     "data": {
      "text/plain": [
       "2"
      ]
     },
     "execution_count": 71,
     "metadata": {},
     "output_type": "execute_result"
    }
   ],
   "source": [
    "c.index(4,1,7)\n"
   ]
  },
  {
   "cell_type": "code",
   "execution_count": 72,
   "id": "d623970a",
   "metadata": {},
   "outputs": [
    {
     "data": {
      "text/plain": [
       "2"
      ]
     },
     "execution_count": 72,
     "metadata": {},
     "output_type": "execute_result"
    }
   ],
   "source": [
    "min(c)"
   ]
  },
  {
   "cell_type": "code",
   "execution_count": 73,
   "id": "c15a160c",
   "metadata": {},
   "outputs": [
    {
     "data": {
      "text/plain": [
       "56"
      ]
     },
     "execution_count": 73,
     "metadata": {},
     "output_type": "execute_result"
    }
   ],
   "source": [
    "max(c)"
   ]
  },
  {
   "cell_type": "markdown",
   "id": "755a61c5",
   "metadata": {},
   "source": [
    "SET"
   ]
  },
  {
   "cell_type": "code",
   "execution_count": 74,
   "id": "a7fadfbc",
   "metadata": {},
   "outputs": [],
   "source": [
    "# IT SHOULD not have any duplicate values"
   ]
  },
  {
   "cell_type": "code",
   "execution_count": null,
   "id": "573a68b7",
   "metadata": {},
   "outputs": [],
   "source": []
  }
 ],
 "metadata": {
  "kernelspec": {
   "display_name": "Python 3",
   "language": "python",
   "name": "python3"
  },
  "language_info": {
   "codemirror_mode": {
    "name": "ipython",
    "version": 3
   },
   "file_extension": ".py",
   "mimetype": "text/x-python",
   "name": "python",
   "nbconvert_exporter": "python",
   "pygments_lexer": "ipython3",
   "version": "3.8.8"
  }
 },
 "nbformat": 4,
 "nbformat_minor": 5
}
